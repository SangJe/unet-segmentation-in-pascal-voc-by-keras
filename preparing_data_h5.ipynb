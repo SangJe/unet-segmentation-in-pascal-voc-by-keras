{
 "cells": [
  {
   "cell_type": "code",
   "execution_count": 1,
   "metadata": {},
   "outputs": [],
   "source": [
    "import h5py\n",
    "import os\n",
    "import numpy as np\n",
    "from PIL import Image"
   ]
  },
  {
   "cell_type": "code",
   "execution_count": 2,
   "metadata": {},
   "outputs": [
    {
     "name": "stdout",
     "output_type": "stream",
     "text": [
      "0\n",
      "1\n",
      "2\n",
      "3\n",
      "4\n",
      "5\n",
      "6\n",
      "7\n",
      "8\n",
      "9\n"
     ]
    }
   ],
   "source": [
    "# Data processing\n",
    "num_class = 21\n",
    "\n",
    "#load data\n",
    "cur_path = os.getcwd()\n",
    "image_path = cur_path+\"/data/image\"\n",
    "label_path = cur_path+\"/data/label\"\n",
    "\n",
    "file_list = os.listdir(image_path)\n",
    "\n",
    "file_path = 'data.h5'\n",
    "f = h5py.File(file_path,'a')\n",
    "imgs = f.create_dataset('images',(2900,256,256,3), chunks=True, dtype='float32')\n",
    "labs = f.create_dataset('labels',(2900,256,256,21), chunks=True, dtype='uint8')\n",
    "\n",
    "for i in range(10):\n",
    "    list_name = file_list[290*i:290*(i+1)]\n",
    "    \n",
    "    ## Data save\n",
    "    buf_images = np.zeros([290,256,256,3]).astype('float32')\n",
    "    buf_labels = np.zeros([290,256,256,21]).astype('uint8')\n",
    "    \n",
    "    for k, file_name in enumerate(list_name):\n",
    "\n",
    "        image = Image.open(image_path+\"/\"+file_name)\n",
    "        label = Image.open(label_path+\"/\"+file_name)\n",
    "\n",
    "        image = image.resize((256,256))\n",
    "        label = label.resize((256,256))\n",
    "        \n",
    "        \n",
    "        image_arr = np.array(image).astype('float32')\n",
    "        image_arr = image_arr / 255\n",
    "        label_arr = np.array(label).astype('uint8')\n",
    "\n",
    "        # make mask one-hot encoding\n",
    "        new_mask = np.zeros((256,256,num_class))\n",
    "        for m in range(num_class):\n",
    "            new_mask[label_arr == m, m] = 1\n",
    "\n",
    "        buf_images[k] = image_arr\n",
    "        buf_labels[k] = new_mask\n",
    "    print(i)\n",
    "    imgs[290*i:290*(i+1),...] = buf_images\n",
    "    labs[290*i:290*(i+1),...] = buf_labels  "
   ]
  },
  {
   "cell_type": "code",
   "execution_count": null,
   "metadata": {},
   "outputs": [],
   "source": []
  }
 ],
 "metadata": {
  "kernelspec": {
   "display_name": "Python 2",
   "language": "python",
   "name": "python2"
  },
  "language_info": {
   "codemirror_mode": {
    "name": "ipython",
    "version": 2
   },
   "file_extension": ".py",
   "mimetype": "text/x-python",
   "name": "python",
   "nbconvert_exporter": "python",
   "pygments_lexer": "ipython2",
   "version": "2.7.13"
  }
 },
 "nbformat": 4,
 "nbformat_minor": 4
}
